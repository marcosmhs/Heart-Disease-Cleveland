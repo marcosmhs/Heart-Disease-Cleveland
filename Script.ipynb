{
 "cells": [
  {
   "cell_type": "markdown",
   "metadata": {},
   "source": [
    "**Introdução**\n",
    "\n",
    "Este exemplo demostra como realizar classificação de dados estruturados à partir de um arquivo CSV. As informações incluem dados numéricos e categóricos. Será utilizada a biblioteca Keras para o processamento das informações e normalização dos dados numéricos e transformação dos dados categóricos em vetores.\n",
    "\n",
    "_Este exemplo precisa necessida do `TensorFlow 2.5` ou superior_\n",
    "\n",
    "**O Dataset**\n",
    "\n",
    "[Os dados](https://archive.ics.uci.edu/ml/datasets/heart+Disease) são disponibilizados pelo _Cleveland Clinic Foundation for Heart Disease_.\n",
    "Ele é um arquivo CSV com 303 linhas, sendo que cada linha possui informações sobre um paciente (**amostra**). Utilizaremos estes dados para prevermos se um paciente teve ou não problema no coração.\n",
    "\n",
    "Descrição das colunas\n",
    "\n",
    "Coluna| Descrição| Tipo\n",
    "------------|--------------------|----------------------\n",
    "Age | Idade em anos | Numérico\n",
    "Sex | (1 = Masculino; 0 = feminino) | Categórico\n",
    "CP | Tipo de dor no peito (0, 1, 2, 3, 4) | Categórico\n",
    "Trestbpd | Pressão em repouso (em mm Hg) | Numérico\n",
    "Chol | Colesterol em mg/dl | Numérico\n",
    "FBS | Açucar no sangue em jejum em 120 mg/dl (1 = true; 0 = false) | Categórico\n",
    "RestECG | Resultado do eletrocardiograma em repouso (0, 1, 2) | Categórico\n",
    "Thalach | Maior frequência cardíaca registrada | Numérico\n",
    "Exang | Angina induzida por exercídio (1 = yes; 0 = no) | Categórico\n",
    "Oldpeak | Mudança do eletrocardiograma ao realizar exercício (comparado com repouso) | Numérico\n",
    "Slope | Variação no segmento ST do eletrocardiograma ao praticar exercício | Numérico\n",
    "CA | Qtde de grandes vasos (0-3) | Ambos Numérico & Categórico\n",
    "Thal | 3 = normal; 6 = problema permanente; 7 = problema reversível | Categórico\n",
    "Target | Diagnóstico de doença no coração (1 = verdadeiro; 0 = falso) | Numérico"
   ]
  },
  {
   "cell_type": "code",
   "execution_count": 1,
   "metadata": {},
   "outputs": [],
   "source": [
    "import tensorflow as tf\n",
    "import numpy as np\n",
    "import pandas as pd\n",
    "from tensorflow import keras\n",
    "from tensorflow.keras import layers\n",
    "\n",
    "dados = pd.read_csv(\"heart.csv\")"
   ]
  },
  {
   "cell_type": "markdown",
   "metadata": {},
   "source": [
    "Rápida visualização da estrutura do dataframe"
   ]
  },
  {
   "cell_type": "code",
   "execution_count": 9,
   "metadata": {},
   "outputs": [
    {
     "data": {
      "text/html": [
       "<div>\n",
       "<style scoped>\n",
       "    .dataframe tbody tr th:only-of-type {\n",
       "        vertical-align: middle;\n",
       "    }\n",
       "\n",
       "    .dataframe tbody tr th {\n",
       "        vertical-align: top;\n",
       "    }\n",
       "\n",
       "    .dataframe thead th {\n",
       "        text-align: right;\n",
       "    }\n",
       "</style>\n",
       "<table border=\"1\" class=\"dataframe\">\n",
       "  <thead>\n",
       "    <tr style=\"text-align: right;\">\n",
       "      <th></th>\n",
       "      <th>age</th>\n",
       "      <th>sex</th>\n",
       "      <th>cp</th>\n",
       "      <th>trestbps</th>\n",
       "      <th>chol</th>\n",
       "      <th>fbs</th>\n",
       "      <th>restecg</th>\n",
       "      <th>thalach</th>\n",
       "      <th>exang</th>\n",
       "      <th>oldpeak</th>\n",
       "      <th>slope</th>\n",
       "      <th>ca</th>\n",
       "      <th>thal</th>\n",
       "      <th>target</th>\n",
       "    </tr>\n",
       "  </thead>\n",
       "  <tbody>\n",
       "    <tr>\n",
       "      <th>0</th>\n",
       "      <td>63</td>\n",
       "      <td>1</td>\n",
       "      <td>1</td>\n",
       "      <td>145</td>\n",
       "      <td>233</td>\n",
       "      <td>1</td>\n",
       "      <td>2</td>\n",
       "      <td>150</td>\n",
       "      <td>0</td>\n",
       "      <td>2.3</td>\n",
       "      <td>3</td>\n",
       "      <td>0</td>\n",
       "      <td>fixed</td>\n",
       "      <td>0</td>\n",
       "    </tr>\n",
       "    <tr>\n",
       "      <th>1</th>\n",
       "      <td>67</td>\n",
       "      <td>1</td>\n",
       "      <td>4</td>\n",
       "      <td>160</td>\n",
       "      <td>286</td>\n",
       "      <td>0</td>\n",
       "      <td>2</td>\n",
       "      <td>108</td>\n",
       "      <td>1</td>\n",
       "      <td>1.5</td>\n",
       "      <td>2</td>\n",
       "      <td>3</td>\n",
       "      <td>normal</td>\n",
       "      <td>1</td>\n",
       "    </tr>\n",
       "    <tr>\n",
       "      <th>2</th>\n",
       "      <td>67</td>\n",
       "      <td>1</td>\n",
       "      <td>4</td>\n",
       "      <td>120</td>\n",
       "      <td>229</td>\n",
       "      <td>0</td>\n",
       "      <td>2</td>\n",
       "      <td>129</td>\n",
       "      <td>1</td>\n",
       "      <td>2.6</td>\n",
       "      <td>2</td>\n",
       "      <td>2</td>\n",
       "      <td>reversible</td>\n",
       "      <td>0</td>\n",
       "    </tr>\n",
       "    <tr>\n",
       "      <th>3</th>\n",
       "      <td>37</td>\n",
       "      <td>1</td>\n",
       "      <td>3</td>\n",
       "      <td>130</td>\n",
       "      <td>250</td>\n",
       "      <td>0</td>\n",
       "      <td>0</td>\n",
       "      <td>187</td>\n",
       "      <td>0</td>\n",
       "      <td>3.5</td>\n",
       "      <td>3</td>\n",
       "      <td>0</td>\n",
       "      <td>normal</td>\n",
       "      <td>0</td>\n",
       "    </tr>\n",
       "    <tr>\n",
       "      <th>4</th>\n",
       "      <td>41</td>\n",
       "      <td>0</td>\n",
       "      <td>2</td>\n",
       "      <td>130</td>\n",
       "      <td>204</td>\n",
       "      <td>0</td>\n",
       "      <td>2</td>\n",
       "      <td>172</td>\n",
       "      <td>0</td>\n",
       "      <td>1.4</td>\n",
       "      <td>1</td>\n",
       "      <td>0</td>\n",
       "      <td>normal</td>\n",
       "      <td>0</td>\n",
       "    </tr>\n",
       "  </tbody>\n",
       "</table>\n",
       "</div>"
      ],
      "text/plain": [
       "   age  sex  cp  trestbps  chol  fbs  restecg  thalach  exang  oldpeak  slope  \\\n",
       "0   63    1   1       145   233    1        2      150      0      2.3      3   \n",
       "1   67    1   4       160   286    0        2      108      1      1.5      2   \n",
       "2   67    1   4       120   229    0        2      129      1      2.6      2   \n",
       "3   37    1   3       130   250    0        0      187      0      3.5      3   \n",
       "4   41    0   2       130   204    0        2      172      0      1.4      1   \n",
       "\n",
       "   ca        thal  target  \n",
       "0   0       fixed       0  \n",
       "1   3      normal       1  \n",
       "2   2  reversible       0  \n",
       "3   0      normal       0  \n",
       "4   0      normal       0  "
      ]
     },
     "execution_count": 9,
     "metadata": {},
     "output_type": "execute_result"
    }
   ],
   "source": [
    "dados.shape\n",
    "dados.head()"
   ]
  },
  {
   "cell_type": "markdown",
   "metadata": {},
   "source": [
    "Separação dos dados em treino e teste"
   ]
  },
  {
   "cell_type": "code",
   "execution_count": 10,
   "metadata": {},
   "outputs": [
    {
     "name": "stdout",
     "output_type": "stream",
     "text": [
      "Usando 227 amostras para treino e 76 para testar a acurácia do modelo\n"
     ]
    }
   ],
   "source": [
    "dados_treino = dados.sample(frac=0.75, random_state=1337)\n",
    "dados_teste = dados.drop(dados_treino.index)\n",
    "\n",
    "print(\n",
    "    \"Usando %d amostras para treino e %d para testar a acurácia do modelo\"\n",
    "    % (len(dados_treino), len(dados_teste))\n",
    ")"
   ]
  },
  {
   "cell_type": "markdown",
   "metadata": {},
   "source": [
    "Para utilização do tensor flow é necessário transformar os dataframes de treino e teste me objetos do tipo `tf.data.Dataset`."
   ]
  },
  {
   "cell_type": "code",
   "execution_count": 11,
   "metadata": {},
   "outputs": [],
   "source": [
    "\n",
    "def dataframe_para_dataset(df):\n",
    "    df = df.copy()\n",
    "    # extrai apenas a variável Y (target)\n",
    "    labels = df.pop(\"target\")\n",
    "    ds = tf.data.Dataset.from_tensor_slices((dict(df), labels))\n",
    "    ds = ds.shuffle(buffer_size=len(df))\n",
    "    return ds\n",
    "\n",
    "\n",
    "treino_ds = dataframe_para_dataset(dados_treino)\n",
    "teste_ds = dataframe_para_dataset(dados_teste)"
   ]
  },
  {
   "cell_type": "markdown",
   "metadata": {},
   "source": [
    "Cada  `Dataset` armazena um conjunto (`input e target`) onde `input` é a lista de variáveis utilizadas para predição e `target` armazena o valor `0` ou `1` da variável resposta (`y`)"
   ]
  },
  {
   "cell_type": "code",
   "execution_count": 12,
   "metadata": {},
   "outputs": [
    {
     "name": "stdout",
     "output_type": "stream",
     "text": [
      "Input: {'age': <tf.Tensor: shape=(), dtype=int64, numpy=59>, 'sex': <tf.Tensor: shape=(), dtype=int64, numpy=1>, 'cp': <tf.Tensor: shape=(), dtype=int64, numpy=4>, 'trestbps': <tf.Tensor: shape=(), dtype=int64, numpy=135>, 'chol': <tf.Tensor: shape=(), dtype=int64, numpy=234>, 'fbs': <tf.Tensor: shape=(), dtype=int64, numpy=0>, 'restecg': <tf.Tensor: shape=(), dtype=int64, numpy=0>, 'thalach': <tf.Tensor: shape=(), dtype=int64, numpy=161>, 'exang': <tf.Tensor: shape=(), dtype=int64, numpy=0>, 'oldpeak': <tf.Tensor: shape=(), dtype=float64, numpy=0.5>, 'slope': <tf.Tensor: shape=(), dtype=int64, numpy=2>, 'ca': <tf.Tensor: shape=(), dtype=int64, numpy=0>, 'thal': <tf.Tensor: shape=(), dtype=string, numpy=b'reversible'>}\n",
      "\n",
      "Target: tf.Tensor(0, shape=(), dtype=int64)\n"
     ]
    }
   ],
   "source": [
    "for x, y in treino_ds.take(1):\n",
    "    print(\"Input:\", x)\n",
    "    print(\"\")\n",
    "    print(\"Target:\", y)"
   ]
  },
  {
   "cell_type": "markdown",
   "metadata": {},
   "source": [
    "Agora vamos agrupar os dados em lotes de 32 linhas, passo importante para o uso do tensor flow"
   ]
  },
  {
   "cell_type": "code",
   "execution_count": 13,
   "metadata": {},
   "outputs": [],
   "source": [
    "treino_ds = treino_ds.batch(32)\n",
    "teste_ds = teste_ds.batch(32)"
   ]
  },
  {
   "cell_type": "markdown",
   "metadata": {},
   "source": [
    "**Pré-processamento dos dados com Keras**\n",
    "\n",
    "As variáveis abaixo são categóricas, porém estão armazenadas como números inteiros:\n",
    "- `sex`\n",
    "- `cp`\n",
    "- `fbs`\n",
    "- `restecg`\n",
    "- `exang`\n",
    "- `ca`\n",
    "\n",
    "Precisamos transformar estas variáveis utilizando o método `one-hot encoding` onde cada valor único da variável se transforma em uma coluna binária indicando `1` para a existência daquele valor e `0` para sua ausência. Este método é o mesmo que a transformação de variáveis categóricas em variáveis dummy.\n",
    "\n",
    "Neste caso faremos os seguintes passos:\n",
    "\n",
    " - Utilizaremos o método `CategoryEncoding()`, que precisa saber a quantidade de valores únicos de cada variável.\n",
    " - Em seguida utilizaremos o método `IntegerLookup()` que cria uma tabela de referência para os valores selecionados anteriormente.\n",
    "\n",
    "Para este exemplo, nós seguiremos uma solução simples que lidará com os valores inteiros, por isso seguiremos com o método `IntegerLookup()`\n",
    "\n",
    "Também temos uma variável do tipo texto `thal`. Para ela usaremos o método `StringLookup()` para a criação das colunas de classificação\n",
    "\n",
    "Por fim, temos as variáveis numéricas:\n",
    "- `age`\n",
    "- `trestbps`\n",
    "- `chol`\n",
    "- `thalach`\n",
    "- `oldpeak`\n",
    "- `slope`\n",
    "\n",
    "Para elas utilizaremos o método `Normalization()` que fará a padronização dos valores em uma faixa entre 0 e 1 \n",
    "\n",
    "Abaixo definimos a criação de 2 métodos para o tratamento dos valores:\n",
    "\n",
    "- `normalizacao_variavel_numericas` responsável pela normalização dos valores numéricos\n",
    "- `transformacao_variavel_categorica` responsável pela aplicação do método _one-hot endoding_ nas categóricas, utilizando o parâmetro string para indicar se a variável em questão é texto ou numérica\n"
   ]
  },
  {
   "cell_type": "code",
   "execution_count": 14,
   "metadata": {},
   "outputs": [],
   "source": [
    "from tensorflow.keras.layers import IntegerLookup\n",
    "from tensorflow.keras.layers import Normalization\n",
    "from tensorflow.keras.layers import StringLookup\n",
    "\n",
    "\n",
    "def normalizacao_variavel_numericas(variavel, nome, ds):\n",
    "    normalizer = Normalization()\n",
    "\n",
    "    # Separa apenas a variável que será normalizada\n",
    "    variavel_ds = ds.map(lambda x, y: x[nome])\n",
    "    variavel_ds = variavel_ds.map(lambda x: tf.expand_dims(x, -1))\n",
    "\n",
    "    # Calcula o índice dos dados para normalização\n",
    "    normalizer.adapt(variavel_ds)\n",
    "\n",
    "    # Normalização da variável e retorno\n",
    "    variavel_normalizada = normalizer(variavel)\n",
    "    return variavel_normalizada\n",
    "\n",
    "\n",
    "def transformacao_variavel_categorica(variavel, nome, ds, string):\n",
    "    # Separa a classe de acordo com o tipo da variável\n",
    "    if (string):\n",
    "        lookup_class = StringLookup\n",
    "    else:\n",
    "        lookup_class = IntegerLookup\n",
    "    \n",
    "    # cria a tabela de referência que irá transformar as strings em íncides númericos\n",
    "    tabela_referencia = lookup_class(output_mode=\"binary\")\n",
    "\n",
    "    # Separa apenas a coluna alvo do dataset\n",
    "    variavel_ds = ds.map(lambda x, y: x[nome])\n",
    "    variavel_ds = variavel_ds.map(lambda x: tf.expand_dims(x, -1))\n",
    "\n",
    "    # Obtem a lista de valores únicos e atribui para cada um um valor numérico\n",
    "    tabela_referencia.adapt(variavel_ds)\n",
    "\n",
    "    # transforma o valor string em valor numérico\n",
    "    encoded_feature = tabela_referencia(variavel)\n",
    "    return encoded_feature\n"
   ]
  },
  {
   "cell_type": "markdown",
   "metadata": {},
   "source": [
    "**Construção do modelo**\n",
    "\n",
    "Primeiramente iremos construir a estrutura de entrada, ou seja, quais variáveis devem ser informadas e qual o tipo de cada uma."
   ]
  },
  {
   "cell_type": "code",
   "execution_count": 15,
   "metadata": {},
   "outputs": [],
   "source": [
    "# Categorical features encoded as integers\n",
    "sex      = keras.Input(shape=(1,), name=\"sex\"    , dtype=\"int64\")\n",
    "cp       = keras.Input(shape=(1,), name=\"cp\"     , dtype=\"int64\")\n",
    "fbs      = keras.Input(shape=(1,), name=\"fbs\"    , dtype=\"int64\")\n",
    "restecg  = keras.Input(shape=(1,), name=\"restecg\", dtype=\"int64\")\n",
    "exang    = keras.Input(shape=(1,), name=\"exang\"  , dtype=\"int64\")\n",
    "ca       = keras.Input(shape=(1,), name=\"ca\"     , dtype=\"int64\")\n",
    "\n",
    "# Categorical feature encoded as string\n",
    "thal     = keras.Input(shape=(1,), name=\"thal\"   , dtype=\"string\")\n",
    "\n",
    "# Numerical features\n",
    "age      = keras.Input(shape=(1,), name=\"age\")\n",
    "trestbps = keras.Input(shape=(1,), name=\"trestbps\")\n",
    "chol     = keras.Input(shape=(1,), name=\"chol\")\n",
    "thalach  = keras.Input(shape=(1,), name=\"thalach\")\n",
    "oldpeak  = keras.Input(shape=(1,), name=\"oldpeak\")\n",
    "slope    = keras.Input(shape=(1,), name=\"slope\")\n",
    "\n",
    "all_inputs = [sex, cp, fbs, restecg, exang, ca, thal, age, trestbps, chol, thalach, oldpeak, slope,]"
   ]
  },
  {
   "cell_type": "markdown",
   "metadata": {},
   "source": [
    "Agora indicaremos ao modelo que topo de **transformação** deve ser feita com os dados que forem inseridos."
   ]
  },
  {
   "cell_type": "code",
   "execution_count": 37,
   "metadata": {},
   "outputs": [],
   "source": [
    "# Integer categorical features\n",
    "sex_encoded      = transformacao_variavel_categorica(sex, \"sex\", treino_ds, False)\n",
    "cp_encoded       = transformacao_variavel_categorica(cp, \"cp\", treino_ds, False)\n",
    "fbs_encoded      = transformacao_variavel_categorica(fbs, \"fbs\", treino_ds, False)\n",
    "restecg_encoded  = transformacao_variavel_categorica(restecg, \"restecg\", treino_ds, False)\n",
    "exang_encoded    = transformacao_variavel_categorica(exang, \"exang\", treino_ds, False)\n",
    "ca_encoded       = transformacao_variavel_categorica(ca, \"ca\", treino_ds, False)\n",
    "\n",
    "# String categorical features\n",
    "thal_encoded     = transformacao_variavel_categorica(thal, \"thal\", treino_ds, True)\n",
    "\n",
    "# Numerical features\n",
    "age_encoded      = normalizacao_variavel_numericas(age, \"age\", treino_ds)\n",
    "trestbps_encoded = normalizacao_variavel_numericas(trestbps, \"trestbps\", treino_ds)\n",
    "chol_encoded     = normalizacao_variavel_numericas(chol, \"chol\", treino_ds)\n",
    "thalach_encoded  = normalizacao_variavel_numericas(thalach, \"thalach\", treino_ds)\n",
    "oldpeak_encoded  = normalizacao_variavel_numericas(oldpeak, \"oldpeak\", treino_ds)\n",
    "slope_encoded    = normalizacao_variavel_numericas(slope, \"slope\", treino_ds)\n",
    "\n",
    "all_features = layers.concatenate([\n",
    "    sex_encoded,\n",
    "    cp_encoded,\n",
    "    fbs_encoded,\n",
    "    restecg_encoded,\n",
    "    exang_encoded,\n",
    "    slope_encoded,\n",
    "    ca_encoded,\n",
    "    thal_encoded,\n",
    "    age_encoded,\n",
    "    trestbps_encoded,\n",
    "    chol_encoded,\n",
    "    thalach_encoded,\n",
    "    oldpeak_encoded,\n",
    "])"
   ]
  },
  {
   "cell_type": "markdown",
   "metadata": {},
   "source": [
    "Por fim vamos configurar a rede neural, ela terá apenas 2 camadas, uma de entrada e uma de saída.\n",
    "\n",
    " - `camada de entrada`: Ela irá receber dados em lotes de 32 em 32 registros, seguindo o mesmo padrão que adotamos para a separação dos lotes de dados de treino e teste. Para a rede indicar se um neurônio deve ou não ser ativado utilizaremos a função `relu`, uma das mais comuns em redes neurais.\n",
    " \n",
    " - `cama de saída`: a camada de saída irá trabalhar com apenas uma unidade de saída, neste caso o % de ocorrer ou não o problema no coração e para isso usaremos a função de ativação `sigmoide` que tenta \"empurrar\" o valor predito para os extemos possíveis da variável Y, neste caso o mais perto possível de 0 ou 1.\n",
    "\n",
    " Para ler mais sobre função de ativação recomendo [Deep learning Book](https://www.deeplearningbook.com.br/funcao-de-ativacao/#:~:text=ReLU&text=ReLU%20%C3%A9%20a%20fun%C3%A7%C3%A3o%20de,neur%C3%B4nios%20ativados%20pela%20fun%C3%A7%C3%A3o%20ReLU.)"
   ]
  },
  {
   "cell_type": "code",
   "execution_count": 38,
   "metadata": {},
   "outputs": [],
   "source": [
    "camada_entrada = layers.Dense(units=32, activation=\"relu\")(all_features)\n",
    "camada_entrada = layers.Dropout(0.5)(camada_entrada)\n",
    "\n",
    "camada_saida = layers.Dense(units=1, activation=\"sigmoid\")(camada_entrada)\n",
    "\n",
    "modelo = keras.Model(all_inputs, camada_saida)\n",
    "\n",
    "modelo.compile(\"adam\", \"binary_crossentropy\", metrics=[\"accuracy\"])"
   ]
  },
  {
   "cell_type": "code",
   "execution_count": 39,
   "metadata": {},
   "outputs": [
    {
     "name": "stdout",
     "output_type": "stream",
     "text": [
      "You must install pydot (`pip install pydot`) and install graphviz (see instructions at https://graphviz.gitlab.io/download/) for plot_model/model_to_dot to work.\n"
     ]
    }
   ],
   "source": [
    "keras.utils.plot_model(modelo, show_shapes=True, rankdir=\"LR\")"
   ]
  },
  {
   "cell_type": "markdown",
   "metadata": {},
   "source": [
    "<img src=\"img/rn.jpg\" width=760 height=760 />\n"
   ]
  },
  {
   "cell_type": "markdown",
   "metadata": {},
   "source": [
    "Com o modelo devidamente configurado para receber os dados de treino informaos à ele:\n",
    "\n",
    " - **`x`**: dados de treino do modelo, por utilizarmos um objeto do tipo `tf.data.dataset` não precisamos informar a variável resposta `y` já que ela está incorporada em nosso dataset\n",
    " - **`epochs`**: número de iterações entre os dados que será executado pela rede neural, neste caso ela fará 20 iterações com dados diferentes entre cada uma para encontrar a máxima acurácia.\n",
    " - **`validation_data`**: dados de teste que rede neural irá utilizar para validar a acurácia do modelo à cada iteração (_epoch_).\n",
    " "
   ]
  },
  {
   "cell_type": "code",
   "execution_count": 40,
   "metadata": {},
   "outputs": [
    {
     "name": "stdout",
     "output_type": "stream",
     "text": [
      "Epoch 1/20\n",
      "8/8 [==============================] - 1s 34ms/step - loss: 0.7208 - accuracy: 0.5419 - val_loss: 0.6567 - val_accuracy: 0.6711\n",
      "Epoch 2/20\n",
      "8/8 [==============================] - 0s 4ms/step - loss: 0.6508 - accuracy: 0.6167 - val_loss: 0.6222 - val_accuracy: 0.6842\n",
      "Epoch 3/20\n",
      "8/8 [==============================] - 0s 4ms/step - loss: 0.6283 - accuracy: 0.6256 - val_loss: 0.5904 - val_accuracy: 0.7368\n",
      "Epoch 4/20\n",
      "8/8 [==============================] - 0s 4ms/step - loss: 0.5769 - accuracy: 0.6784 - val_loss: 0.5629 - val_accuracy: 0.6974\n",
      "Epoch 5/20\n",
      "8/8 [==============================] - 0s 4ms/step - loss: 0.5774 - accuracy: 0.7093 - val_loss: 0.5396 - val_accuracy: 0.6974\n",
      "Epoch 6/20\n",
      "8/8 [==============================] - 0s 4ms/step - loss: 0.5307 - accuracy: 0.7445 - val_loss: 0.5198 - val_accuracy: 0.6974\n",
      "Epoch 7/20\n",
      "8/8 [==============================] - 0s 4ms/step - loss: 0.4956 - accuracy: 0.7753 - val_loss: 0.5018 - val_accuracy: 0.7105\n",
      "Epoch 8/20\n",
      "8/8 [==============================] - 0s 4ms/step - loss: 0.4931 - accuracy: 0.7533 - val_loss: 0.4869 - val_accuracy: 0.6974\n",
      "Epoch 9/20\n",
      "8/8 [==============================] - 0s 4ms/step - loss: 0.4631 - accuracy: 0.7709 - val_loss: 0.4750 - val_accuracy: 0.6842\n",
      "Epoch 10/20\n",
      "8/8 [==============================] - 0s 6ms/step - loss: 0.4518 - accuracy: 0.7621 - val_loss: 0.4664 - val_accuracy: 0.6711\n",
      "Epoch 11/20\n",
      "8/8 [==============================] - 0s 4ms/step - loss: 0.4482 - accuracy: 0.7533 - val_loss: 0.4577 - val_accuracy: 0.6711\n",
      "Epoch 12/20\n",
      "8/8 [==============================] - 0s 4ms/step - loss: 0.4370 - accuracy: 0.7885 - val_loss: 0.4491 - val_accuracy: 0.7105\n",
      "Epoch 13/20\n",
      "8/8 [==============================] - 0s 4ms/step - loss: 0.4315 - accuracy: 0.7974 - val_loss: 0.4399 - val_accuracy: 0.7237\n",
      "Epoch 14/20\n",
      "8/8 [==============================] - 0s 4ms/step - loss: 0.4251 - accuracy: 0.7621 - val_loss: 0.4308 - val_accuracy: 0.7368\n",
      "Epoch 15/20\n",
      "8/8 [==============================] - 0s 4ms/step - loss: 0.3965 - accuracy: 0.7930 - val_loss: 0.4212 - val_accuracy: 0.7632\n",
      "Epoch 16/20\n",
      "8/8 [==============================] - 0s 4ms/step - loss: 0.3915 - accuracy: 0.8062 - val_loss: 0.4125 - val_accuracy: 0.7500\n",
      "Epoch 17/20\n",
      "8/8 [==============================] - 0s 4ms/step - loss: 0.4008 - accuracy: 0.7930 - val_loss: 0.4051 - val_accuracy: 0.7763\n",
      "Epoch 18/20\n",
      "8/8 [==============================] - 0s 4ms/step - loss: 0.3644 - accuracy: 0.8370 - val_loss: 0.4005 - val_accuracy: 0.7763\n",
      "Epoch 19/20\n",
      "8/8 [==============================] - 0s 4ms/step - loss: 0.3991 - accuracy: 0.7930 - val_loss: 0.3993 - val_accuracy: 0.7632\n",
      "Epoch 20/20\n",
      "8/8 [==============================] - 0s 4ms/step - loss: 0.3847 - accuracy: 0.8106 - val_loss: 0.3948 - val_accuracy: 0.7632\n"
     ]
    },
    {
     "data": {
      "text/plain": [
       "<keras.callbacks.History at 0x13886012740>"
      ]
     },
     "execution_count": 40,
     "metadata": {},
     "output_type": "execute_result"
    }
   ],
   "source": [
    "modelo.fit(\n",
    "    x=treino_ds,\n",
    "    epochs=20, \n",
    "    validation_data=teste_ds)"
   ]
  },
  {
   "cell_type": "markdown",
   "metadata": {},
   "source": [
    "Ao final da execução o modelo chegou em **85,5%** de assertividade!"
   ]
  },
  {
   "cell_type": "markdown",
   "metadata": {},
   "source": [
    "**Teste do modelo**\n",
    "\n",
    "Utilizaremos como exemplo um paciente que sabemos que possui um problema do coração"
   ]
  },
  {
   "cell_type": "code",
   "execution_count": 27,
   "metadata": {},
   "outputs": [
    {
     "data": {
      "text/html": [
       "<div>\n",
       "<style scoped>\n",
       "    .dataframe tbody tr th:only-of-type {\n",
       "        vertical-align: middle;\n",
       "    }\n",
       "\n",
       "    .dataframe tbody tr th {\n",
       "        vertical-align: top;\n",
       "    }\n",
       "\n",
       "    .dataframe thead th {\n",
       "        text-align: right;\n",
       "    }\n",
       "</style>\n",
       "<table border=\"1\" class=\"dataframe\">\n",
       "  <thead>\n",
       "    <tr style=\"text-align: right;\">\n",
       "      <th></th>\n",
       "      <th>age</th>\n",
       "      <th>sex</th>\n",
       "      <th>cp</th>\n",
       "      <th>trestbps</th>\n",
       "      <th>chol</th>\n",
       "      <th>fbs</th>\n",
       "      <th>restecg</th>\n",
       "      <th>thalach</th>\n",
       "      <th>exang</th>\n",
       "      <th>oldpeak</th>\n",
       "      <th>slope</th>\n",
       "      <th>ca</th>\n",
       "      <th>thal</th>\n",
       "      <th>target</th>\n",
       "    </tr>\n",
       "  </thead>\n",
       "  <tbody>\n",
       "    <tr>\n",
       "      <th>1</th>\n",
       "      <td>67</td>\n",
       "      <td>1</td>\n",
       "      <td>4</td>\n",
       "      <td>160</td>\n",
       "      <td>286</td>\n",
       "      <td>0</td>\n",
       "      <td>2</td>\n",
       "      <td>108</td>\n",
       "      <td>1</td>\n",
       "      <td>1.5</td>\n",
       "      <td>2</td>\n",
       "      <td>3</td>\n",
       "      <td>normal</td>\n",
       "      <td>1</td>\n",
       "    </tr>\n",
       "    <tr>\n",
       "      <th>6</th>\n",
       "      <td>62</td>\n",
       "      <td>0</td>\n",
       "      <td>4</td>\n",
       "      <td>140</td>\n",
       "      <td>268</td>\n",
       "      <td>0</td>\n",
       "      <td>2</td>\n",
       "      <td>160</td>\n",
       "      <td>0</td>\n",
       "      <td>3.6</td>\n",
       "      <td>3</td>\n",
       "      <td>2</td>\n",
       "      <td>normal</td>\n",
       "      <td>1</td>\n",
       "    </tr>\n",
       "    <tr>\n",
       "      <th>8</th>\n",
       "      <td>63</td>\n",
       "      <td>1</td>\n",
       "      <td>4</td>\n",
       "      <td>130</td>\n",
       "      <td>254</td>\n",
       "      <td>0</td>\n",
       "      <td>2</td>\n",
       "      <td>147</td>\n",
       "      <td>0</td>\n",
       "      <td>1.4</td>\n",
       "      <td>2</td>\n",
       "      <td>1</td>\n",
       "      <td>reversible</td>\n",
       "      <td>1</td>\n",
       "    </tr>\n",
       "    <tr>\n",
       "      <th>12</th>\n",
       "      <td>56</td>\n",
       "      <td>1</td>\n",
       "      <td>3</td>\n",
       "      <td>130</td>\n",
       "      <td>256</td>\n",
       "      <td>1</td>\n",
       "      <td>2</td>\n",
       "      <td>142</td>\n",
       "      <td>1</td>\n",
       "      <td>0.6</td>\n",
       "      <td>2</td>\n",
       "      <td>1</td>\n",
       "      <td>fixed</td>\n",
       "      <td>1</td>\n",
       "    </tr>\n",
       "    <tr>\n",
       "      <th>23</th>\n",
       "      <td>58</td>\n",
       "      <td>1</td>\n",
       "      <td>3</td>\n",
       "      <td>132</td>\n",
       "      <td>224</td>\n",
       "      <td>0</td>\n",
       "      <td>2</td>\n",
       "      <td>173</td>\n",
       "      <td>0</td>\n",
       "      <td>3.2</td>\n",
       "      <td>1</td>\n",
       "      <td>2</td>\n",
       "      <td>reversible</td>\n",
       "      <td>1</td>\n",
       "    </tr>\n",
       "  </tbody>\n",
       "</table>\n",
       "</div>"
      ],
      "text/plain": [
       "    age  sex  cp  trestbps  chol  fbs  restecg  thalach  exang  oldpeak  \\\n",
       "1    67    1   4       160   286    0        2      108      1      1.5   \n",
       "6    62    0   4       140   268    0        2      160      0      3.6   \n",
       "8    63    1   4       130   254    0        2      147      0      1.4   \n",
       "12   56    1   3       130   256    1        2      142      1      0.6   \n",
       "23   58    1   3       132   224    0        2      173      0      3.2   \n",
       "\n",
       "    slope  ca        thal  target  \n",
       "1       2   3      normal       1  \n",
       "6       3   2      normal       1  \n",
       "8       2   1  reversible       1  \n",
       "12      2   1       fixed       1  \n",
       "23      1   2  reversible       1  "
      ]
     },
     "execution_count": 27,
     "metadata": {},
     "output_type": "execute_result"
    }
   ],
   "source": [
    "dados[dados['target'] == 1].head()"
   ]
  },
  {
   "cell_type": "markdown",
   "metadata": {},
   "source": [
    "A rede neural não indica se a pessoa terá ou não um problema cardíaco, mas sim a probabilidade de ela possuir este problema. Neste caso as chances são de **`73,6%`**"
   ]
  },
  {
   "cell_type": "code",
   "execution_count": 29,
   "metadata": {},
   "outputs": [
    {
     "name": "stdout",
     "output_type": "stream",
     "text": [
      "Esta pessoa possui uma probabilidade de 73.6 porcento de ter um problema do coração de acordo com o modelo\n"
     ]
    }
   ],
   "source": [
    "teste = {\n",
    "    \"age\": 67,\n",
    "    \"sex\": 1,\n",
    "    \"cp\": 4,\n",
    "    \"trestbps\": 160,\n",
    "    \"chol\": 286,\n",
    "    \"fbs\": 0,\n",
    "    \"restecg\": 2,\n",
    "    \"thalach\": 108,\n",
    "    \"exang\": 1,\n",
    "    \"oldpeak\": 1.5,\n",
    "    \"slope\": 2,\n",
    "    \"ca\": 3,\n",
    "    \"thal\": \"normal\",\n",
    "}\n",
    "\n",
    "input_dict = {\n",
    "    name: tf.convert_to_tensor([value]) for name, \n",
    "    value in teste.items()\n",
    "}\n",
    "    \n",
    "predicao = modelo.predict(input_dict)\n",
    "\n",
    "print(\n",
    "    \"Esta pessoa possui uma probabilidade de %.1f porcento de ter um problema do coração de acordo com o modelo\" \n",
    "    % (100 * predicao[0][0],)\n",
    ")"
   ]
  },
  {
   "cell_type": "markdown",
   "metadata": {},
   "source": [
    "Pegando como base agora um paciente que sabemos que não possui problemas cardíacos, vemos que as chances de desenvolver algo sério de acordo com o modelo é de **`49,7%`**"
   ]
  },
  {
   "cell_type": "code",
   "execution_count": 30,
   "metadata": {},
   "outputs": [
    {
     "data": {
      "text/html": [
       "<div>\n",
       "<style scoped>\n",
       "    .dataframe tbody tr th:only-of-type {\n",
       "        vertical-align: middle;\n",
       "    }\n",
       "\n",
       "    .dataframe tbody tr th {\n",
       "        vertical-align: top;\n",
       "    }\n",
       "\n",
       "    .dataframe thead th {\n",
       "        text-align: right;\n",
       "    }\n",
       "</style>\n",
       "<table border=\"1\" class=\"dataframe\">\n",
       "  <thead>\n",
       "    <tr style=\"text-align: right;\">\n",
       "      <th></th>\n",
       "      <th>age</th>\n",
       "      <th>sex</th>\n",
       "      <th>cp</th>\n",
       "      <th>trestbps</th>\n",
       "      <th>chol</th>\n",
       "      <th>fbs</th>\n",
       "      <th>restecg</th>\n",
       "      <th>thalach</th>\n",
       "      <th>exang</th>\n",
       "      <th>oldpeak</th>\n",
       "      <th>slope</th>\n",
       "      <th>ca</th>\n",
       "      <th>thal</th>\n",
       "      <th>target</th>\n",
       "    </tr>\n",
       "  </thead>\n",
       "  <tbody>\n",
       "    <tr>\n",
       "      <th>0</th>\n",
       "      <td>63</td>\n",
       "      <td>1</td>\n",
       "      <td>1</td>\n",
       "      <td>145</td>\n",
       "      <td>233</td>\n",
       "      <td>1</td>\n",
       "      <td>2</td>\n",
       "      <td>150</td>\n",
       "      <td>0</td>\n",
       "      <td>2.3</td>\n",
       "      <td>3</td>\n",
       "      <td>0</td>\n",
       "      <td>fixed</td>\n",
       "      <td>0</td>\n",
       "    </tr>\n",
       "    <tr>\n",
       "      <th>2</th>\n",
       "      <td>67</td>\n",
       "      <td>1</td>\n",
       "      <td>4</td>\n",
       "      <td>120</td>\n",
       "      <td>229</td>\n",
       "      <td>0</td>\n",
       "      <td>2</td>\n",
       "      <td>129</td>\n",
       "      <td>1</td>\n",
       "      <td>2.6</td>\n",
       "      <td>2</td>\n",
       "      <td>2</td>\n",
       "      <td>reversible</td>\n",
       "      <td>0</td>\n",
       "    </tr>\n",
       "    <tr>\n",
       "      <th>3</th>\n",
       "      <td>37</td>\n",
       "      <td>1</td>\n",
       "      <td>3</td>\n",
       "      <td>130</td>\n",
       "      <td>250</td>\n",
       "      <td>0</td>\n",
       "      <td>0</td>\n",
       "      <td>187</td>\n",
       "      <td>0</td>\n",
       "      <td>3.5</td>\n",
       "      <td>3</td>\n",
       "      <td>0</td>\n",
       "      <td>normal</td>\n",
       "      <td>0</td>\n",
       "    </tr>\n",
       "    <tr>\n",
       "      <th>4</th>\n",
       "      <td>41</td>\n",
       "      <td>0</td>\n",
       "      <td>2</td>\n",
       "      <td>130</td>\n",
       "      <td>204</td>\n",
       "      <td>0</td>\n",
       "      <td>2</td>\n",
       "      <td>172</td>\n",
       "      <td>0</td>\n",
       "      <td>1.4</td>\n",
       "      <td>1</td>\n",
       "      <td>0</td>\n",
       "      <td>normal</td>\n",
       "      <td>0</td>\n",
       "    </tr>\n",
       "    <tr>\n",
       "      <th>5</th>\n",
       "      <td>56</td>\n",
       "      <td>1</td>\n",
       "      <td>2</td>\n",
       "      <td>120</td>\n",
       "      <td>236</td>\n",
       "      <td>0</td>\n",
       "      <td>0</td>\n",
       "      <td>178</td>\n",
       "      <td>0</td>\n",
       "      <td>0.8</td>\n",
       "      <td>1</td>\n",
       "      <td>0</td>\n",
       "      <td>normal</td>\n",
       "      <td>0</td>\n",
       "    </tr>\n",
       "  </tbody>\n",
       "</table>\n",
       "</div>"
      ],
      "text/plain": [
       "   age  sex  cp  trestbps  chol  fbs  restecg  thalach  exang  oldpeak  slope  \\\n",
       "0   63    1   1       145   233    1        2      150      0      2.3      3   \n",
       "2   67    1   4       120   229    0        2      129      1      2.6      2   \n",
       "3   37    1   3       130   250    0        0      187      0      3.5      3   \n",
       "4   41    0   2       130   204    0        2      172      0      1.4      1   \n",
       "5   56    1   2       120   236    0        0      178      0      0.8      1   \n",
       "\n",
       "   ca        thal  target  \n",
       "0   0       fixed       0  \n",
       "2   2  reversible       0  \n",
       "3   0      normal       0  \n",
       "4   0      normal       0  \n",
       "5   0      normal       0  "
      ]
     },
     "execution_count": 30,
     "metadata": {},
     "output_type": "execute_result"
    }
   ],
   "source": [
    "dados[dados['target'] == 0].head()"
   ]
  },
  {
   "cell_type": "code",
   "execution_count": 33,
   "metadata": {},
   "outputs": [
    {
     "name": "stdout",
     "output_type": "stream",
     "text": [
      "Esta pessoa possui uma probabilidade de 49.7 porcento de ter um problema do coração de acordo com o modelo\n"
     ]
    }
   ],
   "source": [
    "teste = {\n",
    "    \"age\": 63,\n",
    "    \"sex\": 1,\n",
    "    \"cp\": 1,\n",
    "    \"trestbps\": 145,\n",
    "    \"chol\": 233,\n",
    "    \"fbs\": 1,\n",
    "    \"restecg\": 2,\n",
    "    \"thalach\": 150,\n",
    "    \"exang\": 0,\n",
    "    \"oldpeak\": 2.3,\n",
    "    \"slope\": 3,\n",
    "    \"ca\": 0,\n",
    "    \"thal\": \"fixed\",\n",
    "}\n",
    "\n",
    "input_dict = {\n",
    "    name: tf.convert_to_tensor([value]) for name, \n",
    "    value in teste.items()}\n",
    "    \n",
    "predicao = modelo.predict(input_dict)\n",
    "\n",
    "print(\n",
    "    \"Esta pessoa possui uma probabilidade de %.1f porcento de ter um problema do coração de acordo com o modelo\" \n",
    "    % (100 * predicao[0][0],)\n",
    ")"
   ]
  }
 ],
 "metadata": {
  "kernelspec": {
   "display_name": "Python 3.10.5 64-bit",
   "language": "python",
   "name": "python3"
  },
  "language_info": {
   "codemirror_mode": {
    "name": "ipython",
    "version": 3
   },
   "file_extension": ".py",
   "mimetype": "text/x-python",
   "name": "python",
   "nbconvert_exporter": "python",
   "pygments_lexer": "ipython3",
   "version": "3.10.5"
  },
  "orig_nbformat": 4,
  "vscode": {
   "interpreter": {
    "hash": "26de051ba29f2982a8de78e945f0abaf191376122a1563185a90213a26c5da77"
   }
  }
 },
 "nbformat": 4,
 "nbformat_minor": 2
}
